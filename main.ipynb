{
 "cells": [
  {
   "cell_type": "code",
   "execution_count": 14,
   "id": "fafd0558",
   "metadata": {},
   "outputs": [],
   "source": [
    "import streamlit as st\n",
    "from openai import OpenAI\n",
    "import os\n",
    "import requests\n",
    "import sqlite3\n",
    "import pandas as pd\n",
    "import altair as alt\n",
    "from datetime import datetime, timedelta\n",
    "import json\n",
    "\n",
    "from dotenv import load_dotenv\n",
    "\n",
    "# ==== APIキー設定 ====\n",
    "\n",
    "load_dotenv()\n",
    "OPENAI_API_KEY = os.getenv(\"OPENAI_API_KEY\")\n",
    "WEATHER_API_KEY = os.getenv(\"WEATHER_API_KEY\")"
   ]
  },
  {
   "cell_type": "code",
   "execution_count": 13,
   "id": "9b6ea4e7",
   "metadata": {},
   "outputs": [
    {
     "name": "stdout",
     "output_type": "stream",
     "text": [
      "Collecting python-dotenv\n",
      "  Downloading python_dotenv-1.1.0-py3-none-any.whl.metadata (24 kB)\n",
      "Requirement already satisfied: openai in c:\\users\\farbe\\appdata\\local\\programs\\python\\python311\\lib\\site-packages (1.63.2)\n",
      "Requirement already satisfied: anyio<5,>=3.5.0 in c:\\users\\farbe\\appdata\\local\\programs\\python\\python311\\lib\\site-packages (from openai) (4.8.0)\n",
      "Requirement already satisfied: distro<2,>=1.7.0 in c:\\users\\farbe\\appdata\\local\\programs\\python\\python311\\lib\\site-packages (from openai) (1.9.0)\n",
      "Requirement already satisfied: httpx<1,>=0.23.0 in c:\\users\\farbe\\appdata\\local\\programs\\python\\python311\\lib\\site-packages (from openai) (0.28.1)\n",
      "Requirement already satisfied: jiter<1,>=0.4.0 in c:\\users\\farbe\\appdata\\local\\programs\\python\\python311\\lib\\site-packages (from openai) (0.8.2)\n",
      "Requirement already satisfied: pydantic<3,>=1.9.0 in c:\\users\\farbe\\appdata\\local\\programs\\python\\python311\\lib\\site-packages (from openai) (2.10.6)\n",
      "Requirement already satisfied: sniffio in c:\\users\\farbe\\appdata\\local\\programs\\python\\python311\\lib\\site-packages (from openai) (1.3.1)\n",
      "Requirement already satisfied: tqdm>4 in c:\\users\\farbe\\appdata\\local\\programs\\python\\python311\\lib\\site-packages (from openai) (4.67.1)\n",
      "Requirement already satisfied: typing-extensions<5,>=4.11 in c:\\users\\farbe\\appdata\\local\\programs\\python\\python311\\lib\\site-packages (from openai) (4.12.2)\n",
      "Requirement already satisfied: idna>=2.8 in c:\\users\\farbe\\appdata\\local\\programs\\python\\python311\\lib\\site-packages (from anyio<5,>=3.5.0->openai) (3.10)\n",
      "Requirement already satisfied: certifi in c:\\users\\farbe\\appdata\\local\\programs\\python\\python311\\lib\\site-packages (from httpx<1,>=0.23.0->openai) (2024.12.14)\n",
      "Requirement already satisfied: httpcore==1.* in c:\\users\\farbe\\appdata\\local\\programs\\python\\python311\\lib\\site-packages (from httpx<1,>=0.23.0->openai) (1.0.7)\n",
      "Requirement already satisfied: h11<0.15,>=0.13 in c:\\users\\farbe\\appdata\\local\\programs\\python\\python311\\lib\\site-packages (from httpcore==1.*->httpx<1,>=0.23.0->openai) (0.14.0)\n",
      "Requirement already satisfied: annotated-types>=0.6.0 in c:\\users\\farbe\\appdata\\local\\programs\\python\\python311\\lib\\site-packages (from pydantic<3,>=1.9.0->openai) (0.7.0)\n",
      "Requirement already satisfied: pydantic-core==2.27.2 in c:\\users\\farbe\\appdata\\local\\programs\\python\\python311\\lib\\site-packages (from pydantic<3,>=1.9.0->openai) (2.27.2)\n",
      "Requirement already satisfied: colorama in c:\\users\\farbe\\appdata\\local\\programs\\python\\python311\\lib\\site-packages (from tqdm>4->openai) (0.4.6)\n",
      "Downloading python_dotenv-1.1.0-py3-none-any.whl (20 kB)\n",
      "Installing collected packages: python-dotenv\n",
      "Successfully installed python-dotenv-1.1.0\n",
      "Note: you may need to restart the kernel to use updated packages.\n"
     ]
    },
    {
     "name": "stderr",
     "output_type": "stream",
     "text": [
      "\n",
      "[notice] A new release of pip is available: 24.0 -> 25.0.1\n",
      "[notice] To update, run: python.exe -m pip install --upgrade pip\n"
     ]
    }
   ],
   "source": [
    "pip install python-dotenv openai"
   ]
  },
  {
   "cell_type": "code",
   "execution_count": 5,
   "id": "4884be69",
   "metadata": {},
   "outputs": [],
   "source": [
    "\n",
    "\n",
    "# ==== APIキー設定 ====\n",
    "os.environ[\"OPENAI_API_KEY\"] = \"sk-4ea9b863d9f6157c52bdfbeda9686e16\"\n",
    "os.environ[\"WEATHER_API_KEY\"] = \"4ea9b863d9f6157c52bdfbeda9686e16\"\n"
   ]
  },
  {
   "cell_type": "code",
   "execution_count": 4,
   "id": "a9b38445",
   "metadata": {},
   "outputs": [],
   "source": [
    "\n",
    "    # ==== SQLiteデータベース接続 ====\n",
    "conn = sqlite3.connect(\"health_data.db\", check_same_thread=False)\n",
    "c = conn.cursor()\n",
    "c.execute('''\n",
    "    CREATE TABLE IF NOT EXISTS health_log (\n",
    "        date TEXT,\n",
    "        steps INTEGER,\n",
    "        active_minutes INTEGER,\n",
    "        distance REAL,\n",
    "        score INTEGER\n",
    "    )\n",
    "''')\n",
    "conn.commit()\n"
   ]
  },
  {
   "cell_type": "code",
   "execution_count": null,
   "id": "48ad64ee",
   "metadata": {},
   "outputs": [],
   "source": [
    "\n",
    "# ==== Streamlitタイトル ====\n",
    "st.title(\"🏃 健康スコアアプリ\")\n",
    "st.caption(\"Step1〜5 統合版\")\n"
   ]
  },
  {
   "cell_type": "code",
   "execution_count": 7,
   "id": "01200bfb",
   "metadata": {},
   "outputs": [
    {
     "name": "stderr",
     "output_type": "stream",
     "text": [
      "2025-04-13 16:28:46.633 WARNING streamlit.runtime.scriptrunner_utils.script_run_context: Thread 'MainThread': missing ScriptRunContext! This warning can be ignored when running in bare mode.\n",
      "2025-04-13 16:28:46.698 \n",
      "  \u001b[33m\u001b[1mWarning:\u001b[0m to view this Streamlit app on a browser, run it with the following\n",
      "  command:\n",
      "\n",
      "    streamlit run c:\\Users\\farbe\\AppData\\Local\\Programs\\Python\\Python311\\Lib\\site-packages\\ipykernel_launcher.py [ARGUMENTS]\n",
      "2025-04-13 16:28:46.700 Thread 'MainThread': missing ScriptRunContext! This warning can be ignored when running in bare mode.\n",
      "2025-04-13 16:28:46.701 Thread 'MainThread': missing ScriptRunContext! This warning can be ignored when running in bare mode.\n",
      "2025-04-13 16:28:46.702 Thread 'MainThread': missing ScriptRunContext! This warning can be ignored when running in bare mode.\n",
      "2025-04-13 16:28:46.703 Thread 'MainThread': missing ScriptRunContext! This warning can be ignored when running in bare mode.\n",
      "2025-04-13 16:28:46.705 Thread 'MainThread': missing ScriptRunContext! This warning can be ignored when running in bare mode.\n",
      "2025-04-13 16:28:46.706 Session state does not function when running a script without `streamlit run`\n",
      "2025-04-13 16:28:46.709 Thread 'MainThread': missing ScriptRunContext! This warning can be ignored when running in bare mode.\n",
      "2025-04-13 16:28:46.711 Thread 'MainThread': missing ScriptRunContext! This warning can be ignored when running in bare mode.\n",
      "2025-04-13 16:28:46.712 Thread 'MainThread': missing ScriptRunContext! This warning can be ignored when running in bare mode.\n",
      "2025-04-13 16:28:46.713 Thread 'MainThread': missing ScriptRunContext! This warning can be ignored when running in bare mode.\n",
      "2025-04-13 16:28:46.715 Thread 'MainThread': missing ScriptRunContext! This warning can be ignored when running in bare mode.\n",
      "2025-04-13 16:28:46.716 Thread 'MainThread': missing ScriptRunContext! This warning can be ignored when running in bare mode.\n",
      "2025-04-13 16:28:46.716 Thread 'MainThread': missing ScriptRunContext! This warning can be ignored when running in bare mode.\n",
      "2025-04-13 16:28:46.716 Thread 'MainThread': missing ScriptRunContext! This warning can be ignored when running in bare mode.\n",
      "2025-04-13 16:28:46.719 Thread 'MainThread': missing ScriptRunContext! This warning can be ignored when running in bare mode.\n",
      "2025-04-13 16:28:46.720 Thread 'MainThread': missing ScriptRunContext! This warning can be ignored when running in bare mode.\n",
      "2025-04-13 16:28:46.721 Thread 'MainThread': missing ScriptRunContext! This warning can be ignored when running in bare mode.\n",
      "2025-04-13 16:28:46.722 Thread 'MainThread': missing ScriptRunContext! This warning can be ignored when running in bare mode.\n",
      "2025-04-13 16:28:46.724 Thread 'MainThread': missing ScriptRunContext! This warning can be ignored when running in bare mode.\n",
      "2025-04-13 16:28:46.725 Thread 'MainThread': missing ScriptRunContext! This warning can be ignored when running in bare mode.\n"
     ]
    }
   ],
   "source": [
    "\n",
    "# ==== Step 1：運動データ入力 ====\n",
    "st.header(\"📥 今日の運動データを入力\")\n",
    "\n",
    "steps = st.number_input(\"📍 歩数\", min_value=0, value=5000, step=100)\n",
    "active_minutes = st.number_input(\"⏱ アクティブ時間（分）\", min_value=0, value=30, step=5)\n",
    "distance = st.number_input(\"🛣 移動距離（km）\", min_value=0.0, value=3.0, step=0.1)\n"
   ]
  },
  {
   "cell_type": "code",
   "execution_count": null,
   "id": "6b4293d0",
   "metadata": {},
   "outputs": [
    {
     "name": "stdout",
     "output_type": "stream",
     "text": [
      "50\n"
     ]
    }
   ],
   "source": [
    "\n",
    "# ==== 健康スコア計算関数 ====\n",
    "def calc_score(steps, active_minutes, distance):\n",
    "    score = 0\n",
    "    score += 40 if steps >= 10000 else 30 if steps >= 7000 else 20 if steps >= 4000 else 10\n",
    "    score += 30 if active_minutes >= 60 else 20 if active_minutes >= 30 else 10 if active_minutes >= 15 else 5\n",
    "    score += 30 if distance >= 8 else 20 if distance >= 5 else 10 if distance >= 2 else 5\n",
    "    return score\n",
    "\n",
    "score = calc_score(steps, active_minutes, distance)\n"
   ]
  },
  {
   "cell_type": "code",
   "execution_count": null,
   "id": "1aac631b",
   "metadata": {},
   "outputs": [],
   "source": [
    "st.metric(\"📊 健康スコア\", f\"{score}/100\")\n",
    "\n",
    "# ==== Step 2：ChatGPTでアドバイス ====\n",
    "st.subheader(\"💬 ChatGPT からのアドバイス\")\n"
   ]
  },
  {
   "cell_type": "code",
   "execution_count": 10,
   "id": "d3e8ec93",
   "metadata": {},
   "outputs": [],
   "source": [
    "\n",
    "client = OpenAI()\n",
    "\n",
    "def get_health_advice(score, steps, active_minutes, distance):\n",
    "    prompt = f\"\"\"\n",
    "    ユーザーの今日の運動データは以下の通りです：\n",
    "    - 歩数: {steps}\n",
    "    - アクティブ時間: {active_minutes}分\n",
    "    - 移動距離: {distance}km\n",
    "    健康スコアは {score}/100 です。\n",
    "    この情報をもとに、日本語で200文字以内の健康アドバイスをお願いします。\n",
    "    \"\"\"\n",
    "    res = client.chat.completions.create(\n",
    "        model=\"gpt-3.5-turbo\",\n",
    "        messages=[\n",
    "            {\"role\": \"system\", \"content\": \"あなたはユーザーに健康アドバイスをする専門家です。\"},\n",
    "            {\"role\": \"user\", \"content\": prompt}\n",
    "        ],\n",
    "        temperature=0.7,\n",
    "        max_tokens=150\n",
    "    )\n",
    "    return res.choices[0].message.content.strip()\n"
   ]
  },
  {
   "cell_type": "code",
   "execution_count": null,
   "id": "26daff5b",
   "metadata": {},
   "outputs": [],
   "source": [
    "\n",
    "if st.button(\"💡 ChatGPTアドバイスを見る\"):\n",
    "    with st.spinner(\"アドバイス生成中...\"):\n",
    "        advice = get_health_advice(score, steps, active_minutes, distance)\n",
    "        st.success(\"今日のアドバイス\")\n",
    "        st.write(advice)\n",
    "\n",
    "# ==== Step 3：天気APIで運動提案 ====\n",
    "st.header(\"☀️ 明日の天気に合わせた運動提案\")\n",
    "\n",
    "city = st.text_input(\"🌍 都市名を入力してください（例：Tokyo）\", value=\"Tokyo\")\n",
    "\n"
   ]
  },
  {
   "cell_type": "code",
   "execution_count": 11,
   "id": "05bab832",
   "metadata": {},
   "outputs": [],
   "source": [
    "def get_weather_and_suggestion(city):\n",
    "    url = f\"http://api.openweathermap.org/data/2.5/forecast?q={city}&appid={weather_api_key}&units=metric&lang=ja\"\n",
    "    res = requests.get(url).json()\n",
    "    tomorrow = (datetime.now() + timedelta(days=1)).strftime(\"%Y-%m-%d\")\n",
    "    forecast = [item for item in res[\"list\"] if tomorrow in item[\"dt_txt\"]]\n",
    "    if not forecast:\n",
    "        return \"天気情報を取得できませんでした。\"\n",
    "    weather = forecast[0][\"weather\"][0][\"description\"]\n",
    "    suggestion = \"外でウォーキングしましょう！\" if \"晴\" in weather or \"曇\" in weather else \"室内でストレッチやヨガをしましょう。\"\n",
    "    return f\"明日の天気は「{weather}」です。\\n{suggestion}\"\n"
   ]
  },
  {
   "cell_type": "code",
   "execution_count": null,
   "id": "6749b001",
   "metadata": {},
   "outputs": [],
   "source": [
    "\n",
    "if st.button(\"🔍 天気に応じた提案を見る\"):\n",
    "    with st.spinner(\"天気情報を取得中...\"):\n",
    "        suggestion = get_weather_and_suggestion(city)\n",
    "        st.info(suggestion)\n"
   ]
  },
  {
   "cell_type": "code",
   "execution_count": null,
   "id": "2caa7079",
   "metadata": {},
   "outputs": [],
   "source": [
    "\n",
    "# ==== Step 4：DB保存 ====\n",
    "if st.button(\"💾 今日のデータを保存\"):\n",
    "    today = datetime.now().strftime(\"%Y-%m-%d\")\n",
    "    c.execute(\"INSERT INTO health_log VALUES (?, ?, ?, ?, ?)\", (today, steps, active_minutes, distance, score))\n",
    "    conn.commit()\n",
    "    st.success(\"✅ データを保存しました！\")\n",
    "\n",
    "# ==== Step 5：履歴チャート ====\n",
    "st.header(\"📈 健康スコアの記録をグラフで確認\")\n",
    "\n",
    "df = pd.read_sql(\"SELECT * FROM health_log\", conn)\n",
    "\n",
    "if not df.empty:\n",
    "    df[\"date\"] = pd.to_datetime(df[\"date\"])\n",
    "    chart = alt.Chart(df).mark_line(point=True).encode(\n",
    "        x='date:T',\n",
    "        y='score:Q',\n",
    "        tooltip=['date:T', 'score:Q']\n",
    "    ).properties(title=\"📊 健康スコアの推移\", width=600)\n",
    "\n",
    "    st.altair_chart(chart, use_container_width=True)\n",
    "else:\n",
    "    st.info(\"まだ記録がありません。運動データを保存してみましょう！\")"
   ]
  }
 ],
 "metadata": {
  "kernelspec": {
   "display_name": "Python 3",
   "language": "python",
   "name": "python3"
  },
  "language_info": {
   "codemirror_mode": {
    "name": "ipython",
    "version": 3
   },
   "file_extension": ".py",
   "mimetype": "text/x-python",
   "name": "python",
   "nbconvert_exporter": "python",
   "pygments_lexer": "ipython3",
   "version": "3.11.9"
  }
 },
 "nbformat": 4,
 "nbformat_minor": 5
}
